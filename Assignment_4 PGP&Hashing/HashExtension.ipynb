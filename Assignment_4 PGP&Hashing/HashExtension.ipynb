{
 "cells": [
  {
   "cell_type": "markdown",
   "id": "3663d2f0",
   "metadata": {},
   "source": [
    "#  Hash Extension"
   ]
  },
  {
   "cell_type": "markdown",
   "id": "ba976983",
   "metadata": {},
   "source": [
    "### Below is the implementation of the SHA256 provided at the server."
   ]
  },
  {
   "cell_type": "code",
   "execution_count": 49,
   "id": "c6d95b86",
   "metadata": {},
   "outputs": [],
   "source": [
    "# ------------------------------------------------\n",
    "# ------ Pure-Python3 SHA256 Implementation ------\n",
    "# ------------------------------------------------"
   ]
  },
  {
   "cell_type": "code",
   "execution_count": 50,
   "id": "16eacef4",
   "metadata": {},
   "outputs": [],
   "source": [
    "import struct"
   ]
  },
  {
   "cell_type": "markdown",
   "id": "8ff11bf8",
   "metadata": {},
   "source": [
    "### SHA256 constants"
   ]
  },
  {
   "cell_type": "code",
   "execution_count": 51,
   "id": "b2ee7305",
   "metadata": {},
   "outputs": [],
   "source": [
    "k = [0x428a2f98, 0x71374491, 0xb5c0fbcf, 0xe9b5dba5, 0x3956c25b, 0x59f111f1, 0x923f82a4, 0xab1c5ed5,\n",
    "     0xd807aa98, 0x12835b01, 0x243185be, 0x550c7dc3, 0x72be5d74, 0x80deb1fe, 0x9bdc06a7, 0xc19bf174,\n",
    "     0xe49b69c1, 0xefbe4786, 0x0fc19dc6, 0x240ca1cc, 0x2de92c6f, 0x4a7484aa, 0x5cb0a9dc, 0x76f988da,\n",
    "     0x983e5152, 0xa831c66d, 0xb00327c8, 0xbf597fc7, 0xc6e00bf3, 0xd5a79147, 0x06ca6351, 0x14292967,\n",
    "     0x27b70a85, 0x2e1b2138, 0x4d2c6dfc, 0x53380d13, 0x650a7354, 0x766a0abb, 0x81c2c92e, 0x92722c85,\n",
    "     0xa2bfe8a1, 0xa81a664b, 0xc24b8b70, 0xc76c51a3, 0xd192e819, 0xd6990624, 0xf40e3585, 0x106aa070,\n",
    "     0x19a4c116, 0x1e376c08, 0x2748774c, 0x34b0bcb5, 0x391c0cb3, 0x4ed8aa4a, 0x5b9cca4f, 0x682e6ff3,\n",
    "     0x748f82ee, 0x78a5636f, 0x84c87814, 0x8cc70208, 0x90befffa, 0xa4506ceb, 0xbef9a3f7, 0xc67178f2]"
   ]
  },
  {
   "cell_type": "markdown",
   "id": "6b797473",
   "metadata": {},
   "source": [
    "### Similar to right-shift but bits that are shifted out from the right are shifted back into the left."
   ]
  },
  {
   "cell_type": "code",
   "execution_count": null,
   "id": "b77d757f",
   "metadata": {},
   "outputs": [],
   "source": [
    "def right_rotate(value, bits):\n",
    "    return ((value >> bits) | (value << (32 - bits))) & 0xFFFFFFFF"
   ]
  },
  {
   "cell_type": "markdown",
   "id": "635f26cb",
   "metadata": {},
   "source": [
    "### Addition modulo 2^32"
   ]
  },
  {
   "cell_type": "code",
   "execution_count": null,
   "id": "5086f551",
   "metadata": {},
   "outputs": [],
   "source": [
    "def add32(*args):\n",
    "    return sum(args) % (2**32)"
   ]
  },
  {
   "cell_type": "markdown",
   "id": "90680a3b",
   "metadata": {},
   "source": [
    "### Uses standard SHA256 padding scheme, assuming initial message consists of bytes : Append a single 1-bit, then extend with 0s until length is 64 bits less than a multiple of 512 bits, then append the 64-bit integer form of the original message's length."
   ]
  },
  {
   "cell_type": "code",
   "execution_count": 176,
   "id": "61e49da9",
   "metadata": {},
   "outputs": [],
   "source": [
    "\n",
    "def add_padding(msg):\n",
    "    # Uses standard SHA256 padding scheme, assuming initial message consists of bytes:\n",
    "    # Append a single 1-bit, then extend with 0s until length is 64 bits less than\n",
    "    # a multiple of 512 bits, then append the 64-bit integer form of the original\n",
    "    # message's length\n",
    "    \n",
    "    \"\"\" Changed the length calculation to accomodate the length of Secret||Message||Padding.\n",
    "        The length of Secret||Message||Padding is 2 blocks of 64 bytes i.e 128 bytes     \"\"\"\n",
    "    \n",
    "    len_orig = 8 * len(msg) + (128 * 8)   \n",
    "    msg = msg + b\"\\x80\"                 \n",
    "\n",
    "    while (len(msg) + 8) % 64 != 0:\n",
    "        msg = msg + b\"\\x00\"\n",
    "\n",
    "    # Add original message length to end as an 8-byte big-endian integer\n",
    "    msg = msg + struct.pack(\">Q\", len_orig)\n",
    "\n",
    "    return msg\n",
    "\n",
    "def add_Custom_padding(msg):\n",
    "    # Uses standard SHA256 padding scheme, assuming initial message consists of bytes:\n",
    "    # Append a single 1-bit, then extend with 0s until length is 64 bits less than\n",
    "    # a multiple of 512 bits, then append the 64-bit integer form of the original\n",
    "    # message's length\n",
    "    len_orig = 8 * len(msg)\n",
    "    msg = msg + b\"\\x80\"\n",
    "\n",
    "    while (len(msg) + 8) % 64 != 0:\n",
    "        msg = msg + b\"\\x00\"\n",
    "\n",
    "    # Add original message length to end as an 8-byte big-endian integer\n",
    "    msg = msg + struct.pack(\">Q\", len_orig)\n",
    "\n",
    "    return msg"
   ]
  },
  {
   "cell_type": "markdown",
   "id": "3fba1213",
   "metadata": {},
   "source": [
    "## Main SHA256 implementation\n",
    "\n",
    "### We have changed the initial values of h0,h1....h7 with the SHA values obtained from the CTF server."
   ]
  },
  {
   "cell_type": "code",
   "execution_count": 185,
   "id": "c8381323",
   "metadata": {},
   "outputs": [],
   "source": [
    "def sha256(data_str):\n",
    "    msg = data_str\n",
    "\n",
    "    if isinstance(msg, str):\n",
    "        msg = msg.encode() # Convert string to bytearray\n",
    "\n",
    "    data_padded = add_padding(msg)\n",
    "\n",
    "    assert len(data_padded) % 64 == 0\n",
    "\n",
    "\n",
    "    \"\"\"############################################################################################################\"\"\"\n",
    "    #     h0 = 0x6a09e667\n",
    "    #     h1 = 0xbb67ae85\n",
    "    #     h2 = 0x3c6ef372\n",
    "    #     h3 = 0xa54ff53a\n",
    "    #     h4 = 0x510e527f\n",
    "    #     h5 = 0x9b05688c\n",
    "    #     h6 = 0x1f83d9ab\n",
    "    #     h7 = 0x5be0cd19\n",
    "    \n",
    "    \"\"\" SHA value obtained from the server = b54cb1fd4be14d5d36fdd2cdbda8c5b2b5bb8a621814ae2f6de3b42d5a824df7\"\"\"\n",
    "\n",
    "    # Using the SHA values obtained from the CTF server.\n",
    "    h0 = 0xb54cb1fd\n",
    "    h1 = 0x4be14d5d\n",
    "    h2 = 0x36fdd2cd\n",
    "    h3 = 0xbda8c5b2\n",
    "    h4 = 0xb5bb8a62\n",
    "    h5 = 0x1814ae2f\n",
    "    h6 = 0x6de3b42d\n",
    "    h7 = 0x5a824df7\n",
    "\n",
    "    \"\"\"############################################################################################################\"\"\"\n",
    "    \n",
    "    for i in range(0, len(data_padded), 64):\n",
    "        data_chunk = data_padded[i:i+64]\n",
    "\n",
    "        w = [0] * 64 # Message schedule array\n",
    "\n",
    "        # Chunk forms the start of the message schedule array\n",
    "        for i in range(0, 16):\n",
    "            w[i] = struct.unpack(\">I\", data_chunk[(4*i):(4*i+4)])[0]\n",
    "\n",
    "        # Extend to form the rest of the message schedule array\n",
    "        for i in range(16, 64):\n",
    "            s0 = right_rotate(w[i - 15], 7) ^ right_rotate(w[i - 15], 18) ^ (w[i - 15] >> 3)\n",
    "            s1 = right_rotate(w[i - 2], 17) ^ right_rotate(w[i - 2], 19) ^ (w[i - 2] >> 10)\n",
    "            w[i] = add32(w[i - 16], s0, w[i - 7], s1)\n",
    "\n",
    "        a = h0\n",
    "        b = h1\n",
    "        c = h2\n",
    "        d = h3\n",
    "        e = h4\n",
    "        f = h5\n",
    "        g = h6\n",
    "        h = h7\n",
    "\n",
    "        # The compression function\n",
    "        for i in range(0, 64):\n",
    "            S1 = right_rotate(e, 6) ^ right_rotate(e, 11) ^ right_rotate(e, 25)\n",
    "            ch = (e & f) ^ (~e & g)\n",
    "            temp1 = add32(h, S1, ch, k[i], w[i])\n",
    "            S0 = right_rotate(a, 2) ^ right_rotate(a, 13) ^ right_rotate(a, 22)\n",
    "            maj = (a & b) ^ (a & c) ^ (b & c)\n",
    "            temp2 = add32(S0, maj)\n",
    "\n",
    "            h = g\n",
    "            g = f\n",
    "            f = e\n",
    "            e = add32(d, temp1)\n",
    "            d = c\n",
    "            c = b\n",
    "            b = a\n",
    "            a = add32(temp1, temp2)\n",
    "\n",
    "        h0 = add32(h0, a)\n",
    "        h1 = add32(h1, b)\n",
    "        h2 = add32(h2, c)\n",
    "        h3 = add32(h3, d)\n",
    "        h4 = add32(h4, e)\n",
    "        h5 = add32(h5, f)\n",
    "        h6 = add32(h6, g)\n",
    "        h7 = add32(h7, h)\n",
    "\n",
    "    return struct.pack(\">IIIIIIII\", h0, h1, h2, h3, h4, h5, h6, h7).hex()"
   ]
  },
  {
   "cell_type": "markdown",
   "id": "e2faf9b6",
   "metadata": {},
   "source": [
    "### Taking old cookie and converting it to hex."
   ]
  },
  {
   "cell_type": "code",
   "execution_count": 186,
   "id": "36638c48",
   "metadata": {},
   "outputs": [
    {
     "name": "stdout",
     "output_type": "stream",
     "text": [
      "=-=-=-=-=-=-=-=-=-=-=-=-=-=-=-=-=-=-=-=-=-=-=-=-=-=-=-=-=-=-=-=-=-=-=-=-=-=-=-=-=-=-=-=-=-=-=-=-=-=-=-=-=-=\n",
      "old cookie :\t username=nekomusume&groups=students,users,\n",
      "Hex version :\t 757365726e616d653d6e656b6f6d7573756d652667726f7570733d73747564656e74732c75736572732c\n",
      "=-=-=-=-=-=-=-=-=-=-=-=-=-=-=-=-=-=-=-=-=-=-=-=-=-=-=-=-=-=-=-=-=-=-=-=-=-=-=-=-=-=-=-=-=-=-=-=-=-=-=-=-=-=\n"
     ]
    }
   ],
   "source": [
    "print(\"=-=-=-=-=-=-=-=-=-=-=-=-=-=-=-=-=-=-=-=-=-=-=-=-=-=-=-=-=-=-=-=-=-=-=-=-=-=-=-=-=-=-=-=-=-=-=-=-=-=-=-=-=-=\")\n",
    "\n",
    "# old cookie is the cookie obtained from the CTF server.\n",
    "old_cookie = 'username=nekomusume&groups=students,users,'\n",
    "print(\"old cookie :\\t\", old_cookie)\n",
    "\n",
    "# Converting the cookie to the hex\n",
    "print(\"Hex version :\\t\",old_cookie.encode().hex())\n",
    "\n",
    "print(\"=-=-=-=-=-=-=-=-=-=-=-=-=-=-=-=-=-=-=-=-=-=-=-=-=-=-=-=-=-=-=-=-=-=-=-=-=-=-=-=-=-=-=-=-=-=-=-=-=-=-=-=-=-=\")"
   ]
  },
  {
   "cell_type": "markdown",
   "id": "a4ee53e2",
   "metadata": {},
   "source": [
    "### What will the complete paddded message be like if we had the 16 byte secret key."
   ]
  },
  {
   "cell_type": "code",
   "execution_count": 188,
   "id": "95609870",
   "metadata": {},
   "outputs": [
    {
     "name": "stdout",
     "output_type": "stream",
     "text": [
      "Padded cookie :\t b'xxxxxxxxxxxxxxxxusername=nekomusume&groups=students,users,\\x80\\x00\\x00\\x00\\x00\\x00\\x00\\x00\\x00\\x00\\x00\\x00\\x00\\x00\\x00\\x00\\x00\\x00\\x00\\x00\\x00\\x00\\x00\\x00\\x00\\x00\\x00\\x00\\x00\\x00\\x00\\x00\\x00\\x00\\x00\\x00\\x00\\x00\\x00\\x00\\x00\\x00\\x00\\x00\\x00\\x00\\x00\\x00\\x00\\x00\\x00\\x00\\x00\\x00\\x00\\x00\\x00\\x00\\x00\\x00\\x00\\x00\\x00\\x00\\x00\\x00\\x00\\x00\\x01\\xd0'\n",
      "\n",
      "length of the old padded cookie :  128\n"
     ]
    }
   ],
   "source": [
    "# Taking a 16 bit secret key.\n",
    "secret_key = 'x'*16\n",
    "\n",
    "# Padded cookie is concatenation of secret key, cookie , padding and length of (secret key||message)\n",
    "padded_cookie = add_Custom_padding((secret_key + old_cookie).encode())\n",
    "\n",
    "print(\"Padded cookie :\\t\",padded_cookie)\n",
    "\n",
    "print(\"\\nlength of the old padded cookie : \",len(padded_cookie))"
   ]
  },
  {
   "cell_type": "markdown",
   "id": "c70abe63",
   "metadata": {},
   "source": [
    "### Adding the string 'admins' to the original message and calculating the SHA value of it. During calculation of SHA, we have changed the initial values of h0,h1....h7 with the SHA values obtained from the CTF server."
   ]
  },
  {
   "cell_type": "code",
   "execution_count": 189,
   "id": "9e6ef0ac",
   "metadata": {},
   "outputs": [
    {
     "name": "stdout",
     "output_type": "stream",
     "text": [
      "=-=-=-=-=-=-=-=-=-=-=-=-=-=-=-=-=-=-=-=-=-=-=-=-=-=-=-=-=-=-=-=-=-=-=-=-=-=-=-=-=-=-=-=-=-=-=-=-=-=-=-=-=-=\n",
      "'admins' in hex :  61646d696e73\n",
      "SHA obtained :  519f788dcf2224debe3a6614802a98f7acff6dc0db44cc2e4325796bfd805517\n",
      "=-=-=-=-=-=-=-=-=-=-=-=-=-=-=-=-=-=-=-=-=-=-=-=-=-=-=-=-=-=-=-=-=-=-=-=-=-=-=-=-=-=-=-=-=-=-=-=-=-=-=-=-=-=\n"
     ]
    }
   ],
   "source": [
    "message =  'admins'\n",
    "sha = sha256(message)\n",
    "print(\"=-=-=-=-=-=-=-=-=-=-=-=-=-=-=-=-=-=-=-=-=-=-=-=-=-=-=-=-=-=-=-=-=-=-=-=-=-=-=-=-=-=-=-=-=-=-=-=-=-=-=-=-=-=\")\n",
    "print(\"'admins' in hex : \", message.encode().hex())\n",
    "print(\"SHA obtained : \", sha)\n",
    "print(\"=-=-=-=-=-=-=-=-=-=-=-=-=-=-=-=-=-=-=-=-=-=-=-=-=-=-=-=-=-=-=-=-=-=-=-=-=-=-=-=-=-=-=-=-=-=-=-=-=-=-=-=-=-=\")"
   ]
  },
  {
   "cell_type": "code",
   "execution_count": 190,
   "id": "5acc62fd",
   "metadata": {},
   "outputs": [
    {
     "name": "stdout",
     "output_type": "stream",
     "text": [
      "new cookie :  b'xxxxxxxxxxxxxxxxusername=nekomusume&groups=students,users,\\x80\\x00\\x00\\x00\\x00\\x00\\x00\\x00\\x00\\x00\\x00\\x00\\x00\\x00\\x00\\x00\\x00\\x00\\x00\\x00\\x00\\x00\\x00\\x00\\x00\\x00\\x00\\x00\\x00\\x00\\x00\\x00\\x00\\x00\\x00\\x00\\x00\\x00\\x00\\x00\\x00\\x00\\x00\\x00\\x00\\x00\\x00\\x00\\x00\\x00\\x00\\x00\\x00\\x00\\x00\\x00\\x00\\x00\\x00\\x00\\x00\\x00\\x00\\x00\\x00\\x00\\x00\\x00\\x01\\xd0admins'\n"
     ]
    }
   ],
   "source": [
    "new_string = padded_cookie + message.encode()\n",
    "print(\"new cookie : \",new_string)"
   ]
  },
  {
   "cell_type": "markdown",
   "id": "277d02c3",
   "metadata": {},
   "source": [
    "### We do not know the secret key hence we will remove first 16 characters to create our new cookie. "
   ]
  },
  {
   "cell_type": "code",
   "execution_count": 199,
   "id": "41467acb",
   "metadata": {},
   "outputs": [
    {
     "name": "stdout",
     "output_type": "stream",
     "text": [
      "=-=-=-=-=-=-=-=-=-=-=-=-=-=-=-=-=-=-=-=-=-=-=-=-=-=-=-=-=-=-=-=-=-=-=-=-=-=-=-=-=-=-=-=-=-=-=-=-=-=-=-=-=-=\n",
      "New cookie :\t 757365726e616d653d6e656b6f6d7573756d652667726f7570733d73747564656e74732c75736572732c800000000000000000000000000000000000000000000000000000000000000000000000000000000000000000000000000000000000000000000000000000000000000001d061646d696e73\n",
      "\n",
      "New signature :\t 519f788dcf2224debe3a6614802a98f7acff6dc0db44cc2e4325796bfd805517\n",
      "=-=-=-=-=-=-=-=-=-=-=-=-=-=-=-=-=-=-=-=-=-=-=-=-=-=-=-=-=-=-=-=-=-=-=-=-=-=-=-=-=-=-=-=-=-=-=-=-=-=-=-=-=-=\n"
     ]
    }
   ],
   "source": [
    "print(\"=-=-=-=-=-=-=-=-=-=-=-=-=-=-=-=-=-=-=-=-=-=-=-=-=-=-=-=-=-=-=-=-=-=-=-=-=-=-=-=-=-=-=-=-=-=-=-=-=-=-=-=-=-=\")\n",
    "print(\"New cookie :\\t\",new_string[16:].hex())\n",
    "print(\"\\nNew signature :\\t\", sha)\n",
    "print(\"=-=-=-=-=-=-=-=-=-=-=-=-=-=-=-=-=-=-=-=-=-=-=-=-=-=-=-=-=-=-=-=-=-=-=-=-=-=-=-=-=-=-=-=-=-=-=-=-=-=-=-=-=-=\")"
   ]
  },
  {
   "attachments": {},
   "cell_type": "markdown",
   "id": "0002a9ea",
   "metadata": {},
   "source": [
    "## Flag obtained from CTF server is 199df8220aceba468bff497edfae209a"
   ]
  }
 ],
 "metadata": {
  "kernelspec": {
   "display_name": "Python 3 (ipykernel)",
   "language": "python",
   "name": "python3"
  },
  "language_info": {
   "codemirror_mode": {
    "name": "ipython",
    "version": 3
   },
   "file_extension": ".py",
   "mimetype": "text/x-python",
   "name": "python",
   "nbconvert_exporter": "python",
   "pygments_lexer": "ipython3",
   "version": "3.9.13"
  }
 },
 "nbformat": 4,
 "nbformat_minor": 5
}
