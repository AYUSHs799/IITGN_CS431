{
 "cells": [
  {
   "cell_type": "markdown",
   "id": "71ab9136",
   "metadata": {},
   "source": [
    "## Breaking One Time Pad\n",
    "\n",
    "If we know the messages encrypted with a one-time pad, it is possible to break the encryption and recover the key that was used to encrypt them. The one-time pad is a theoretically unbreakable encryption technique when used properly, but it is important to note that using the same key more than once or using a key that is not truly random can compromise the security of the encryption.  \n",
    "\n",
    "We can use the known plaintext attack to break the encryption. We will XOR the known plaintext with the corresponding ciphertext. This will give us the key stream used to encrypt that particular message."
   ]
  },
  {
   "cell_type": "code",
   "execution_count": 1,
   "id": "a85bd63b",
   "metadata": {},
   "outputs": [
    {
     "name": "stdout",
     "output_type": "stream",
     "text": [
      "746869736d657373616765697333326269746c6f6e67616e6449616d61776172\n"
     ]
    }
   ],
   "source": [
    "# Message string I have given for conversion.\n",
    "\n",
    "Msg = 'thismessageis32bitlongandIamawar'\n",
    "MsgHex = Msg.encode().hex()\n",
    "\n",
    "print(MsgHex)"
   ]
  },
  {
   "cell_type": "code",
   "execution_count": 2,
   "id": "8b9bf444",
   "metadata": {},
   "outputs": [],
   "source": [
    "# Cipher Text recieved from the CTF Server.\n",
    "\n",
    "CipherHex = 'a70fbe47076ac21daac94f006e5047de6159e38e667e9ceb897923bb5c072678'"
   ]
  },
  {
   "cell_type": "code",
   "execution_count": 3,
   "id": "6d050da7",
   "metadata": {},
   "outputs": [
    {
     "name": "stdout",
     "output_type": "stream",
     "text": [
      "Key in hexadecimal is:  0xd367d7346a0fb16ecbae2a691d6375bc082d8fe10819fd85ed3042d63d70470a\n"
     ]
    }
   ],
   "source": [
    "# XORing both the acquired Hex values of Msg and Cipher\n",
    "\n",
    "MsgHex =    0x746869736d657373616765697333326269746c6f6e67616e6449616d61776172\n",
    "CipherHex = 0xa70fbe47076ac21daac94f006e5047de6159e38e667e9ceb897923bb5c072678\n",
    "\n",
    "KeyHex = MsgHex ^ CipherHex\n",
    "print(\"Key in hexadecimal is: \",hex(KeyHex))"
   ]
  },
  {
   "cell_type": "markdown",
   "id": "bcd1ffa7",
   "metadata": {},
   "source": [
    "## Extracting the flag\n",
    "\n",
    "The flag is the decrypted version of the message at index 0. To obtain the flag we will XOR the obtained key value with the cipher text stored at the index 0."
   ]
  },
  {
   "cell_type": "code",
   "execution_count": 4,
   "id": "7403a929",
   "metadata": {},
   "outputs": [
    {
     "name": "stdout",
     "output_type": "stream",
     "text": [
      "The flag in Hex is :  0x3236333134303138363736323339393937313434303730363530373636343930\n",
      "Flag is :  bytearray(b'26314018676239997144070650766490')\n"
     ]
    }
   ],
   "source": [
    "KeyHex =     0xd367d7346a0fb16ecbae2a691d6375bc082d8fe10819fd85ed3042d63d70470a\n",
    "Cipher0Hex = 0xe151e4055e3f8056fd991c5b2e5a4c853f1cbbd5382ecdb3d80075e00b447e3a\n",
    "\n",
    "flagHex = KeyHex^Cipher0Hex\n",
    "print(\"The flag in Hex is : \" , hex(flagHex))\n",
    "\n",
    "# Since our flagHex variable also contains '0x' at the begining we will have to remove it then convert it to string.\n",
    "flag = hex(flagHex )[2:]\n",
    "print(\"Flag is : \" , bytearray.fromhex(flag))"
   ]
  },
  {
   "cell_type": "markdown",
   "id": "51123af1",
   "metadata": {},
   "source": [
    "### The value of flag obtained is 26314018676239997144070650766490"
   ]
  }
 ],
 "metadata": {
  "kernelspec": {
   "display_name": "Python 3",
   "language": "python",
   "name": "python3"
  },
  "language_info": {
   "codemirror_mode": {
    "name": "ipython",
    "version": 3
   },
   "file_extension": ".py",
   "mimetype": "text/x-python",
   "name": "python",
   "nbconvert_exporter": "python",
   "pygments_lexer": "ipython3",
   "version": "3.11.1"
  },
  "vscode": {
   "interpreter": {
    "hash": "1f6a27bcfbe46a917dbd192f4a82657396dda26148bae633192e8d28c70725f1"
   }
  }
 },
 "nbformat": 4,
 "nbformat_minor": 5
}
