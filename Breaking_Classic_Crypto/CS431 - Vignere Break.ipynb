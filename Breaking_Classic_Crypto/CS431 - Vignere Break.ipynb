{
 "cells": [
  {
   "cell_type": "markdown",
   "id": "8c61886a",
   "metadata": {},
   "source": [
    "## Vignere Cipher\n",
    "\n",
    "The text is encrypted by adding a number from the key modulo 26 to a number\n",
    "from the plaintext, where we run through the key over and over again as needed as we run through the\n",
    "plaintext.\n",
    "\n",
    "As an equation, the $i^{th}$ character is encrypted like this:\n",
    "$C_i = (P_i + K_{imod L})mod 26$\n",
    "\n",
    "here,\n",
    "\n",
    "P is the plain text.  \n",
    "K in the key.  \n",
    "and L is the lenght of the key."
   ]
  },
  {
   "cell_type": "code",
   "execution_count": 1,
   "id": "d0497604",
   "metadata": {},
   "outputs": [],
   "source": [
    "ALPHABET = 'ABCDEFGHIJKLMNOPQRSTUVWXYZ'"
   ]
  },
  {
   "cell_type": "code",
   "execution_count": 2,
   "id": "04f036b9",
   "metadata": {},
   "outputs": [],
   "source": [
    "# Here is a Python routine that encrypts a text:\n",
    "\n",
    "def encrypt(plaintext,key):\n",
    "    ciphertext = ''\n",
    "    for i in range(len(plaintext)):\n",
    "        \n",
    "        # Finding index value of current character.\n",
    "        p = ALPHABET.index(plaintext[i])\n",
    "        \n",
    "        # Finding index value of key from which it will get shifted.\n",
    "        k = ALPHABET.index(key[i%len(key)])\n",
    "        \n",
    "        # Finding shifted index value of cipher character.\n",
    "        c = (p + k) % 26\n",
    "        \n",
    "        # Converting cipher index value to cipher character and appending it to ciphertext.\n",
    "        ciphertext += ALPHABET[c]\n",
    "        \n",
    "    # Returning Cipher text.\n",
    "    return ciphertext\n"
   ]
  },
  {
   "cell_type": "code",
   "execution_count": 3,
   "id": "28c81c69",
   "metadata": {},
   "outputs": [],
   "source": [
    "# Decryption is simply the inverse. In other words, instead of adding, we subtract.\n",
    "\n",
    "def decrypt(ciphertext,key):\n",
    "    plaintext = ''\n",
    "    for i in range(len(ciphertext)):\n",
    "        \n",
    "        # Finding index value of current character.\n",
    "        p = ALPHABET.index(ciphertext[i])\n",
    "        \n",
    "        # Finding index value of key from which it will get shifted.\n",
    "        k = ALPHABET.index(key[i%len(key)])\n",
    "        \n",
    "        # Finding shifted index value of plain text character.\n",
    "        c = (p - k) % 26\n",
    "        \n",
    "        # Converting plain text index value to plain text character and appending it to plaintext.\n",
    "        plaintext += ALPHABET[c]\n",
    "        \n",
    "    return plaintext"
   ]
  },
  {
   "cell_type": "markdown",
   "id": "00935ffa",
   "metadata": {},
   "source": [
    "## Index of Coincidence (IOC) .\n",
    "\n",
    "The index of coincidence (IoC) measures the likelihood that any two characters of a text are the same. \n",
    "\n",
    "A concise formula for the IoC is \n",
    "\n",
    "$I = 26 * \\sum_{i=A}^{Z} ni (ni - 1) / N (N - 1)$  \n",
    "\n",
    "where,  \n",
    "$n_i$ are the counts of the letters in the text, and  \n",
    "$N$ is the total number of characters\n",
    "\n",
    "With this normalization, a random text has an IoC close to 1, while English text is close to 1.7\n",
    "\n",
    "\n"
   ]
  },
  {
   "cell_type": "code",
   "execution_count": 4,
   "id": "63bbdcc6",
   "metadata": {},
   "outputs": [],
   "source": [
    "# Python code that finds the IOC:\n",
    "\n",
    "def index_of_coincidence(text):\n",
    "    counts = [0]*36\n",
    "    \n",
    "    # Counting occurance of every character.\n",
    "    for char in text:\n",
    "        counts[ALPHABET.index(char)] += 1\n",
    "        \n",
    "    # Calculating Summation of Index of Coincidence for thr current text.\n",
    "    numer = 0\n",
    "    total = 0\n",
    "    for i in range(26):\n",
    "        numer += counts[i]*(counts[i]-1)\n",
    "        total += counts[i]\n",
    "    \n",
    "    # Retrun the calculated Ioc.\n",
    "    return 26*numer / (total*(total-1))\n"
   ]
  },
  {
   "cell_type": "markdown",
   "id": "f7994399",
   "metadata": {},
   "source": [
    "## Calculating key length.\n",
    "\n",
    "To use the IoC to find the period or key length of the cipher, \n",
    "* we cut the ciphertext into m slices, where each slicecontains every $m^{th}$ letter. \n",
    "* Then we find the IoC for each slice and average them. We do this for various choices of m.\n",
    "* The smallest m with an average IoC close to 1.7 is our period."
   ]
  },
  {
   "cell_type": "code",
   "execution_count": 5,
   "id": "1e87cf8c",
   "metadata": {},
   "outputs": [
    {
     "name": "stdout",
     "output_type": "stream",
     "text": [
      "Key length obtained from cipher text is : 8\n"
     ]
    }
   ],
   "source": [
    "# Putting it all together, here is the Python code that finds the period:\n",
    "\n",
    "# lenght of ALPHABETs for us is equal to 26.\n",
    "ALPHABET = 'ABCDEFGHIJKLMNOPQRSTUVWXYZ' \n",
    "\n",
    "# Ciphertext obtained from the CTF server. We have converted the cipher text to uppercase for ease of performing operations.\n",
    "# ciphertext ='CsgrgzmvksynytbmpgkuiswhgrejsxthvhvftkkxgrfsgxgtvoraexklaCfztabittvpltwpqgpvwuvxjemrvmmshpibzolmpgkuigjmnikljuzmpdzimjcensrahmzswpjgsiwqouevggbicnuvrzmvcckjmzpiccybxnmvknrgszipnyrastgqqujzetvitTnbtkzwqnjzeembehrakkuiusrtiykspdlpxhcwknvfwgvhpexbxoixgecrgzzspitpstbvcckfaoblqukrzkzoponvrmblgtihitiqgoiyimipkdvaxobcqfkuiublgrZaxkzeetzbrywzgrerxcwvmsnvprjiwnkeeimedlvimgmbveefmbmvgrfhxovkqfvagxgtveuceisivsrahziqreicvuwjdoorwcpmehzztrmqgnkpvexxqgintnqgrrfgsiwpuwzgltmetlpcixnietrfwazepcvnkgqrutracziqreivrmZiruknxowruwzyphmshcvaxxipkmgbvzireewnvswvgidcsxbeptzahkipknxfxnirgvvaxnmgteuvxxixknxfslbsfapGlkaifemrpuxqgnkfaotpclkrviwqrlvgirgxjeenxaziqfxbzkzroeegvkoynakvstblgasvpobcvoknbgvheoegvutieoebqokmptveeibmqnjglkifklzgczwogegvrlwvoakvstaiervgetlaklcrzkventvexnmrctleiunxtujgetlvgplgezqspYfhvlteiijseing61267282gd174r9900nih71n4jf'\n",
    "ciphertext ='CsgrgzmvksynytbmpgkuiswhgrejsxthvhvftkkxgrfsgxgtvoraexklaCfztabittvpltwpqgpvwuvxjemrvmmshpibzolmpgkuigjmnikljuzmpdzimjcensrahmzswpjgsiwqouevggbicnuvrzmvcckjmzpiccybxnmvknrgszipnyrastgqqujzetvitTnbtkzwqnjzeembehrakkuiusrtiykspdlpxhcwknvfwgvhpexbxoixgecrgzzspitpstbvcckfaoblqukrzkzoponvrmblgtihitiqgoiyimipkdvaxobcqfkuiublgrZaxkzeetzbrywzgrerxcwvmsnvprjiwnkeeimedlvimgmbveefmbmvgrfhxovkqfvagxgtveuceisivsrahziqreicvuwjdoorwcpmehzztrmqgnkpvexxqgintnqgrrfgsiwpuwzgltmetlpcixnietrfwazepcvnkgqrutracziqreivrmZiruknxowruwzyphmshcvaxxipkmgbvzireewnvswvgidcsxbeptzahkipknxfxnirgvvaxnmgteuvxxixknxfslbsfapGlkaifemrpuxqgnkfaotpclkrviwqrlvgirgxjeenxaziqfxbzkzroeegvkoynakvstblgasvpobcvoknbgvheoegvutieoebqokmptveeibmqnjglkifklzgczwogegvrlwvoakvstaiervgetlaklcrzkventvexnmrctleiunxtujgetlvgplgezqspYfhvlteiijseing'\n",
    "ciphertext = ciphertext.upper()\n",
    "\n",
    "found = False\n",
    "period = 0\n",
    "while not found:\n",
    "    period += 1\n",
    "    \n",
    "    # Slice variable will store the cipher text sampled at the specified period.\n",
    "    slices = ['']*period\n",
    "    \n",
    "    # Taking characters from Cipher text at a period and storing them to slice variable.\n",
    "    for i in range(len(ciphertext)):\n",
    "        slices[i%period] += ciphertext[i]\n",
    "\n",
    "    sum = 0\n",
    "       \n",
    "    # Calculating Ioc for the period.\n",
    "    for i in range(period):\n",
    "        sum += index_of_coincidence(slices[i])\n",
    "        \n",
    "    ioc = sum / period\n",
    "    \n",
    "    # A random text will have IoC close to 1, while English text will be close to 1.7\n",
    "    if ioc > 1.6:\n",
    "        found = True\n",
    "        \n",
    "print(\"Key length obtained from cipher text is :\", period)"
   ]
  },
  {
   "cell_type": "code",
   "execution_count": 7,
   "id": "ddff87c9",
   "metadata": {},
   "outputs": [
    {
     "name": "stdout",
     "output_type": "stream",
     "text": [
      "   char       freq\n",
      "0     E  529117365\n",
      "1     T  390965105\n",
      "2     A  374061888\n",
      "3     O  326627740\n",
      "4     I  320410057\n",
      "5     N  313720540\n",
      "6     S  294300210\n",
      "7     R  277000841\n",
      "8     H  216768975\n",
      "9     L  183996130\n",
      "10    D  169330528\n",
      "11    C  138416451\n",
      "12    U  117295780\n",
      "13    M  110504544\n",
      "14    F   95422055\n",
      "15    G   91258980\n",
      "16    P   90376747\n",
      "17    W   79843664\n",
      "18    Y   75294515\n",
      "19    B   70195826\n",
      "20    V   46337161\n",
      "21    K   35373464\n",
      "22    J    9613410\n",
      "23    X    8369915\n",
      "24    Z    4975847\n",
      "25    Q    4550166\n"
     ]
    }
   ],
   "source": [
    "# Acquired Engfreq.txt from http://practicalcryptography.com/cryptanalysis/letter-frequencies-various-languages/english-letter-frequencies/ \n",
    "# The frequencies from this page are generated from around 4.5 billion characters of English text.\n",
    "\n",
    "import pandas as pd\n",
    "import numpy as np\n",
    "import matplotlib.pyplot as plt\n",
    "\n",
    "# loading Frequency Data \n",
    "Engfreq = pd.read_csv('EngFreq.txt',sep = ' ')\n",
    "print(Engfreq)"
   ]
  },
  {
   "cell_type": "code",
   "execution_count": 8,
   "id": "620b4747",
   "metadata": {},
   "outputs": [
    {
     "data": {
      "image/png": "[encoded data removed]",
      "text/plain": [
       "<Figure size 640x480 with 1 Axes>"
      ]
     },
     "metadata": {},
     "output_type": "display_data"
    }
   ],
   "source": [
    "# Making the characters as the index of the dataframe.\n",
    "Engfreq = Engfreq.set_index('char')\n",
    "\n",
    "# Calculating frequency percentages.\n",
    "Engfreq['percent'] = 100 * Engfreq['freq']/Engfreq['freq'].sum()\n",
    "\n",
    "# Sorting based on alphabets i.e the index of the dataframe.\n",
    "Engfreq = Engfreq.sort_index(axis = 0)\n",
    "\n",
    "# Plotting the frequencies for the english letters.\n",
    "char = np.array(Engfreq.index)\n",
    "freq = np.array(Engfreq['percent'])\n",
    "plt.bar(char,freq)\n",
    "plt.xlabel('Aplhabets')\n",
    "plt.ylabel('Frequency as Percentage')\n",
    "plt.show()"
   ]
  },
  {
   "cell_type": "code",
   "execution_count": 9,
   "id": "f432aca7",
   "metadata": {},
   "outputs": [
    {
     "name": "stdout",
     "output_type": "stream",
     "text": [
      "Key for vignere Cipher is : CARNEGIE\n",
      "\n",
      "Decrypted message will be :\n",
      " ASPECTERISHAUNTINGTHEMODERNWORLDTHESPECTEROFCRYPTOANARCHYCOMPUTERTECHNOLOGYISONTHEVERGEOFPROVIDINGTHEABILITYFORINDIVIDUALSANDGROUPSTOCOMMUNICATEANDINTERACTWITHEACHOTHERINATOTALLYANONYMOUSMANNERTWOPERSONSMAYEXCHANGEMESSAGESCONDUCTBUSINESSANDNEGOTIATEELECTRONICCONTRACTSWITHOUTEVERKNOWINGTHETRUENAMEORLEGALIDENTITYOFTHEOTHERINTERACTIONSOVERNETWORKSWILLBEUNTRACEABLEVIAEXTENSIVEREROUTINGOFENCRYPTEDPACKETSANDTAMPERPROOFBOXESWHICHIMPLEMENTCRYPTOGRAPHICPROTOCOLSWITHNEARLYPERFECTASSURANCEAGAINSTANYTAMPERINGREPUTATIONSWILLBEOFCENTRALIMPORTANCEFARMOREIMPORTANTINDEALINGSTHANEVENTHECREDITRATINGSOFTODAYTHESEDEVELOPMENTSWILLALTERCOMPLETELYTHENATUREOFGOVERNMENTREGULATIONTHEABILITYTOTAXANDCONTROLECONOMICINTERACTIONSTHEABILITYTOKEEPINFORMATIONSECRETANDWILLEVENALTERTHENATUREOFTRUSTANDREPUTATIONYOURFLAGISFACFC\n"
     ]
    }
   ],
   "source": [
    "from math import sqrt\n",
    "def cosangle(x,y):\n",
    "    numerator = 0\n",
    "    lengthx2 = 0\n",
    "    lengthy2 = 0\n",
    "    for i in range(len(x)):\n",
    "        numerator += x[i]*y[i]\n",
    "        lengthx2 += x[i]*x[i]\n",
    "        lengthy2 += y[i]*y[i]\n",
    "    return numerator / sqrt(lengthx2*lengthy2)\n",
    "\n",
    "monofrequencies = freq\n",
    "\n",
    "frequencies = []\n",
    "for i in range(period):\n",
    "    frequencies.append([0]*26)\n",
    "    for j in range(len(slices[i])):\n",
    "        frequencies[i][ALPHABET.index(slices[i][j])] += 1\n",
    "    for j in range(26):\n",
    "        frequencies[i][j] = frequencies[i][j] / len(slices[i])\n",
    "    \n",
    "key = ['A']*period\n",
    "for i in range(period):\n",
    "    for j in range(26):\n",
    "        testtable = frequencies[i][j:]+frequencies[i][:j]\n",
    "        if cosangle(monofrequencies,testtable) > 0.9:\n",
    "            key[i] = ALPHABET[j]\n",
    "            \n",
    "print(\"Key for vignere Cipher is :\",''.join(key))\n",
    "\n",
    "# ciphertext ='csgrgzmvksynytbmpgkuiswhgrejsxthvhvftkkxgrfsgxgtvoraexklaCfztabittvpltwpqgpvwuvxjemrvmmshpibzolmpgkuigjmnikljuzmpdzimjcensrahmzswpjgsiwqouevggbicnuvrzmvcckjmzpiccybxnmvknrgszipnyrastgqqujzetvitTnbtkzwqnjzeembehrakkuiusrtiykspdlpxhcwknvfwgvhpexbxoixgecrgzzspitpstbvcckfaoblqukrzkzoponvrmblgtihitiqgoiyimipkdvaxobcqfkuiublgrZaxkzeetzbrywzgrerxcwvmsnvprjiwnkeeimedlvimgmbveefmbmvgrfhxovkqfvagxgtveuceisivsrahziqreicvuwjdoorwcpmehzztrmqgnkpvexxqgintnqgrrfgsiwpuwzgltmetlpcixnietrfwazepcvnkgqrutracziqreivrmZiruknxowruwzyphmshcvaxxipkmgbvzireewnvswvgidcsxbeptzahkipknxfxnirgvvaxnmgteuvxxixknxfslbsfapGlkaifemrpuxqgnkfaotpclkrviwqrlvgirgxjeenxaziqfxbzkzroeegvkoynakvstblgasvpobcvoknbgvheoegvutieoebqokmptveeibmqnjglkifklzgczwogegvrlwvoakvstaiervgetlaklcrzkventvexnmrctleiunxtujgetlvgplgezqspYfhvlteiijseing61267282gd174r9900nih71n4jf'.upper()\n",
    "plaintext = decrypt(ciphertext,key)\n",
    "print(\"\\nDecrypted message will be :\\n\", plaintext)"
   ]
  },
  {
   "attachments": {},
   "cell_type": "markdown",
   "id": "9a0527cc",
   "metadata": {},
   "source": [
    "### Key obtained was 'CARNEGIE' and the Flag obtained was 'facfc61267282ed174a9900aeb71f4fd'"
   ]
  }
 ],
 "metadata": {
  "kernelspec": {
   "display_name": "Python 3",
   "language": "python",
   "name": "python3"
  },
  "language_info": {
   "codemirror_mode": {
    "name": "ipython",
    "version": 3
   },
   "file_extension": ".py",
   "mimetype": "text/x-python",
   "name": "python",
   "nbconvert_exporter": "python",
   "pygments_lexer": "ipython3",
   "version": "3.11.1"
  },
  "vscode": {
   "interpreter": {
    "hash": "1f6a27bcfbe46a917dbd192f4a82657396dda26148bae633192e8d28c70725f1"
   }
  }
 },
 "nbformat": 4,
 "nbformat_minor": 5
}
